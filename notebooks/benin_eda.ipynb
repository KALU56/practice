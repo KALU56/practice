{
 "cells": [
  {
   "cell_type": "code",
   "execution_count": null,
   "id": "84a0c7ca",
   "metadata": {},
   "outputs": [],
   "source": [
    "import pandas as pd\n",
    "\n",
    "# Load Benin data\n",
    "df = pd.read_csv('data/benin-malanville.csv', parse_dates=['Timestamp'])  # Adjust 'Timestamp' column name if needed\n",
    "df.head()\n"
   ]
  }
 ],
 "metadata": {
  "kernelspec": {
   "display_name": "venv",
   "language": "python",
   "name": "python3"
  },
  "language_info": {
   "name": "python",
   "version": "3.13.1"
  }
 },
 "nbformat": 4,
 "nbformat_minor": 5
}
