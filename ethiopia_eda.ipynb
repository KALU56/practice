{
 "cells": [
  {
   "cell_type": "code",
   "execution_count": null,
   "id": "ae79b60b-0413-4f94-9ed6-ac2d5f0b6600",
   "metadata": {},
   "outputs": [],
   "source": []
  }
 ],
 "metadata": {
  "kernelspec": {
   "display_name": "",
   "name": ""
  },
  "language_info": {
   "name": ""
  }
 },
 "nbformat": 4,
 "nbformat_minor": 5
}
